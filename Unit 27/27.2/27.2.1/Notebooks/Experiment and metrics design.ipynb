{
 "cells": [
  {
   "cell_type": "markdown",
   "id": "c6c6ab50",
   "metadata": {},
   "source": [
    "### 1) Key Measure of Success\n",
    "\n",
    "**Metric: Increase of number of cross-city trips made by drivers.**\n",
    "\n",
    "- This metric directly measures the core objective of the experiment\n",
    "- An increase in cross-city trips indicates that drivers are responding positively in experiment, likely due to reduced financial barriers.\n",
    "- More cross-city trips could lead to better resource allocation between the two cities, ensuring demand is met more efficiently.\n",
    "\n",
    "### 2) Experiment Design\n",
    "\n",
    "\n",
    "**Design Type: Randomized Controlled Trial (RCT)**\n",
    "\n",
    "1. **Sample Selection**:\n",
    "   - **Population**: All driver partners registered in either Gotham or Metropolis.\n",
    "   - **Sample Groups**: Randomly assign driver partners to two groups:\n",
    "     - **Treatment Group**: Drivers who will be reimbursed for toll costs.\n",
    "     - **Control Group**: Drivers who will not receive any reimbursement.\n",
    "\n",
    "2. **Duration**: Run the experiment over some period(for ex, 4-6 weeks), to capture variations in behavior and external factors like weather, events, or holidays.\n",
    "\n",
    "3. **Data Collection**:\n",
    "   - Collect baseline data on the number of cross-city trips made by each driver before the experiment.\n",
    "   - Track the number of cross-city trips, total trips, driver hours, and earnings for both groups during the experiment.\n",
    "\n",
    "**b) Statistical Analysis**\n",
    "\n",
    "1. **Descriptive Statistics**: Calculate the mean and standard deviation of cross-city trips for both groups before and during the experiment.\n",
    "\n",
    "2. **Hypothesis Testing**:\n",
    "   - **Null Hypothesis (H0)**: There is no significant difference in the number of cross-city trips between the treatment and control groups.\n",
    "   - **Alternative Hypothesis (H1)**: The treatment group has a significantly higher number of cross-city trips than the control group.\n",
    "\n",
    "3. **Statistical Test**:\n",
    "   - **Two-Sample t-test**: Compare the means of cross-city trips between the treatment and control groups. This test is appropriate if the data is normally distributed.\n",
    "   - **Mann-Whitney U Test**: If the data is not normally distributed, this non-parametric test can be used.\n",
    "\n",
    "4. **Significance Level**: Use a standard significance level of 0.05 to determine the statistical significance of the results.\n",
    "\n",
    "**c) Interpretation and Recommendations**\n",
    "\n",
    "1. **Interpretation**:\n",
    "   - **Significant Increase**: If the treatment group shows a statistically significant increase in cross-city trips compared to the control group, it indicates that reimbursing tolls effectively encourages drivers to operate in both cities.\n",
    "   - **No Significant Change**: If there is no significant difference, the reimbursement might not be sufficient, or other barriers exist (e.g., time constraints, traffic conditions).\n",
    "\n",
    "2. **Recommendations**:\n",
    "   - **If Successful**: \n",
    "     - **Expand the Program**: Consider making toll reimbursements permanent or extending them to more drivers.\n",
    "     - **Monitor Long-Term Effects**: Continuously track cross-city trips and assess if the behavior persists over time.\n",
    "   - **If Unsuccessful**:\n",
    "     - **Reassess Incentives**: Explore other incentives (e.g., bonuses for cross-city trips) or address additional barriers.\n",
    "     - **Conduct Further Research**: Understand drivers' motivations and constraints through surveys or focus groups.\n",
    "\n",
    "3. **Caveats**:\n",
    "   - **External Factors**: Events such as roadworks, accidents, or weather changes could affect driver behavior independently of the experiment.\n",
    "   - **Hawthorne Effect**: Drivers may temporarily change their behavior simply because they are aware of being observed.\n",
    "   - **Generalizability**: Results might differ in other contexts or cities with different dynamics and toll structures."
   ]
  },
  {
   "cell_type": "code",
   "execution_count": null,
   "id": "e6aba002",
   "metadata": {},
   "outputs": [],
   "source": []
  }
 ],
 "metadata": {
  "kernelspec": {
   "display_name": "Python 3 (ipykernel)",
   "language": "python",
   "name": "python3"
  },
  "language_info": {
   "codemirror_mode": {
    "name": "ipython",
    "version": 3
   },
   "file_extension": ".py",
   "mimetype": "text/x-python",
   "name": "python",
   "nbconvert_exporter": "python",
   "pygments_lexer": "ipython3",
   "version": "3.10.9"
  }
 },
 "nbformat": 4,
 "nbformat_minor": 5
}
