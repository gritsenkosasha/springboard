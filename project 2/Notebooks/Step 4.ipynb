{
 "cells": [
  {
   "cell_type": "code",
   "execution_count": 22,
   "id": "c32193ac",
   "metadata": {},
   "outputs": [],
   "source": [
    "import pandas as pd\n",
    "from sklearn.ensemble import GradientBoostingRegressor, RandomForestRegressor, StackingRegressor\n",
    "from sklearn.linear_model import LinearRegression\n",
    "from sklearn.model_selection import train_test_split, GridSearchCV, RandomizedSearchCV, cross_val_score\n",
    "from sklearn.preprocessing import OneHotEncoder, PolynomialFeatures, StandardScaler\n",
    "from sklearn.metrics import mean_absolute_error, r2_score\n",
    "from xgboost import XGBRegressor\n",
    "from lightgbm import LGBMRegressor\n",
    "from sklearn.pipeline import Pipeline\n",
    "from sklearn.model_selection import cross_validate\n",
    "import numpy as np\n",
    "import joblib\n"
   ]
  },
  {
   "cell_type": "code",
   "execution_count": 15,
   "id": "bfe508c3",
   "metadata": {},
   "outputs": [],
   "source": [
    "model = joblib.load('../models/best_model.pkl')"
   ]
  },
  {
   "cell_type": "code",
   "execution_count": 16,
   "id": "94ca97ca",
   "metadata": {},
   "outputs": [
    {
     "data": {
      "text/html": [
       "<div>\n",
       "<style scoped>\n",
       "    .dataframe tbody tr th:only-of-type {\n",
       "        vertical-align: middle;\n",
       "    }\n",
       "\n",
       "    .dataframe tbody tr th {\n",
       "        vertical-align: top;\n",
       "    }\n",
       "\n",
       "    .dataframe thead th {\n",
       "        text-align: right;\n",
       "    }\n",
       "</style>\n",
       "<table border=\"1\" class=\"dataframe\">\n",
       "  <thead>\n",
       "    <tr style=\"text-align: right;\">\n",
       "      <th></th>\n",
       "      <th>Year</th>\n",
       "      <th>Country</th>\n",
       "      <th>gold_medal</th>\n",
       "      <th>silver_medal</th>\n",
       "      <th>bronze_medal</th>\n",
       "      <th>total_medal</th>\n",
       "      <th>type_olympic</th>\n",
       "      <th>host_flag</th>\n",
       "      <th>Country_</th>\n",
       "      <th>gold_medal_sum</th>\n",
       "      <th>...</th>\n",
       "      <th>primary_enrollment_ratio</th>\n",
       "      <th>secondary_enrollment_ratio</th>\n",
       "      <th>tertiary_enrollment_ratio</th>\n",
       "      <th>internet_penetration</th>\n",
       "      <th>mobile_penetration</th>\n",
       "      <th>health_expenditure</th>\n",
       "      <th>Income Group_Low income</th>\n",
       "      <th>Income Group_Lower middle income</th>\n",
       "      <th>Income Group_Upper middle income</th>\n",
       "      <th>host_flag_1</th>\n",
       "    </tr>\n",
       "  </thead>\n",
       "  <tbody>\n",
       "    <tr>\n",
       "      <th>0</th>\n",
       "      <td>2022.0</td>\n",
       "      <td>AUS</td>\n",
       "      <td>1.0</td>\n",
       "      <td>2.0</td>\n",
       "      <td>1.0</td>\n",
       "      <td>4.0</td>\n",
       "      <td>w</td>\n",
       "      <td>0.0</td>\n",
       "      <td>AUS</td>\n",
       "      <td>172.0</td>\n",
       "      <td>...</td>\n",
       "      <td>99.132988</td>\n",
       "      <td>133.277267</td>\n",
       "      <td>106.240761</td>\n",
       "      <td>96.240000</td>\n",
       "      <td>107.031203</td>\n",
       "      <td>10.543639</td>\n",
       "      <td>0.0</td>\n",
       "      <td>0.0</td>\n",
       "      <td>0.0</td>\n",
       "      <td>0.0</td>\n",
       "    </tr>\n",
       "    <tr>\n",
       "      <th>1</th>\n",
       "      <td>2022.0</td>\n",
       "      <td>AUT</td>\n",
       "      <td>7.0</td>\n",
       "      <td>7.0</td>\n",
       "      <td>4.0</td>\n",
       "      <td>18.0</td>\n",
       "      <td>w</td>\n",
       "      <td>0.0</td>\n",
       "      <td>AUT</td>\n",
       "      <td>92.0</td>\n",
       "      <td>...</td>\n",
       "      <td>100.775627</td>\n",
       "      <td>101.458000</td>\n",
       "      <td>93.940071</td>\n",
       "      <td>93.614091</td>\n",
       "      <td>123.434807</td>\n",
       "      <td>12.100000</td>\n",
       "      <td>0.0</td>\n",
       "      <td>0.0</td>\n",
       "      <td>0.0</td>\n",
       "      <td>0.0</td>\n",
       "    </tr>\n",
       "    <tr>\n",
       "      <th>2</th>\n",
       "      <td>2022.0</td>\n",
       "      <td>BEL</td>\n",
       "      <td>1.0</td>\n",
       "      <td>0.0</td>\n",
       "      <td>1.0</td>\n",
       "      <td>2.0</td>\n",
       "      <td>w</td>\n",
       "      <td>0.0</td>\n",
       "      <td>BEL</td>\n",
       "      <td>45.0</td>\n",
       "      <td>...</td>\n",
       "      <td>101.821136</td>\n",
       "      <td>143.163513</td>\n",
       "      <td>82.688202</td>\n",
       "      <td>94.007831</td>\n",
       "      <td>101.870773</td>\n",
       "      <td>11.042908</td>\n",
       "      <td>0.0</td>\n",
       "      <td>0.0</td>\n",
       "      <td>0.0</td>\n",
       "      <td>0.0</td>\n",
       "    </tr>\n",
       "    <tr>\n",
       "      <th>3</th>\n",
       "      <td>2022.0</td>\n",
       "      <td>BLR</td>\n",
       "      <td>0.0</td>\n",
       "      <td>2.0</td>\n",
       "      <td>0.0</td>\n",
       "      <td>2.0</td>\n",
       "      <td>w</td>\n",
       "      <td>0.0</td>\n",
       "      <td>BLR</td>\n",
       "      <td>23.0</td>\n",
       "      <td>...</td>\n",
       "      <td>94.711967</td>\n",
       "      <td>94.535896</td>\n",
       "      <td>70.867569</td>\n",
       "      <td>89.507331</td>\n",
       "      <td>123.447255</td>\n",
       "      <td>6.570000</td>\n",
       "      <td>0.0</td>\n",
       "      <td>0.0</td>\n",
       "      <td>1.0</td>\n",
       "      <td>0.0</td>\n",
       "    </tr>\n",
       "    <tr>\n",
       "      <th>4</th>\n",
       "      <td>2022.0</td>\n",
       "      <td>CAN</td>\n",
       "      <td>4.0</td>\n",
       "      <td>8.0</td>\n",
       "      <td>14.0</td>\n",
       "      <td>26.0</td>\n",
       "      <td>w</td>\n",
       "      <td>0.0</td>\n",
       "      <td>CAN</td>\n",
       "      <td>150.0</td>\n",
       "      <td>...</td>\n",
       "      <td>96.293083</td>\n",
       "      <td>109.334312</td>\n",
       "      <td>77.802292</td>\n",
       "      <td>92.834017</td>\n",
       "      <td>91.230625</td>\n",
       "      <td>11.154714</td>\n",
       "      <td>0.0</td>\n",
       "      <td>0.0</td>\n",
       "      <td>0.0</td>\n",
       "      <td>0.0</td>\n",
       "    </tr>\n",
       "  </tbody>\n",
       "</table>\n",
       "<p>5 rows × 60 columns</p>\n",
       "</div>"
      ],
      "text/plain": [
       "     Year Country  gold_medal  silver_medal  bronze_medal  total_medal  \\\n",
       "0  2022.0     AUS         1.0           2.0           1.0          4.0   \n",
       "1  2022.0     AUT         7.0           7.0           4.0         18.0   \n",
       "2  2022.0     BEL         1.0           0.0           1.0          2.0   \n",
       "3  2022.0     BLR         0.0           2.0           0.0          2.0   \n",
       "4  2022.0     CAN         4.0           8.0          14.0         26.0   \n",
       "\n",
       "  type_olympic  host_flag Country_  gold_medal_sum  ...  \\\n",
       "0            w        0.0      AUS           172.0  ...   \n",
       "1            w        0.0      AUT            92.0  ...   \n",
       "2            w        0.0      BEL            45.0  ...   \n",
       "3            w        0.0      BLR            23.0  ...   \n",
       "4            w        0.0      CAN           150.0  ...   \n",
       "\n",
       "   primary_enrollment_ratio  secondary_enrollment_ratio  \\\n",
       "0                 99.132988                  133.277267   \n",
       "1                100.775627                  101.458000   \n",
       "2                101.821136                  143.163513   \n",
       "3                 94.711967                   94.535896   \n",
       "4                 96.293083                  109.334312   \n",
       "\n",
       "   tertiary_enrollment_ratio  internet_penetration  mobile_penetration  \\\n",
       "0                 106.240761             96.240000          107.031203   \n",
       "1                  93.940071             93.614091          123.434807   \n",
       "2                  82.688202             94.007831          101.870773   \n",
       "3                  70.867569             89.507331          123.447255   \n",
       "4                  77.802292             92.834017           91.230625   \n",
       "\n",
       "   health_expenditure  Income Group_Low income  \\\n",
       "0           10.543639                      0.0   \n",
       "1           12.100000                      0.0   \n",
       "2           11.042908                      0.0   \n",
       "3            6.570000                      0.0   \n",
       "4           11.154714                      0.0   \n",
       "\n",
       "   Income Group_Lower middle income Income Group_Upper middle income  \\\n",
       "0                               0.0                              0.0   \n",
       "1                               0.0                              0.0   \n",
       "2                               0.0                              0.0   \n",
       "3                               0.0                              1.0   \n",
       "4                               0.0                              0.0   \n",
       "\n",
       "   host_flag_1  \n",
       "0          0.0  \n",
       "1          0.0  \n",
       "2          0.0  \n",
       "3          0.0  \n",
       "4          0.0  \n",
       "\n",
       "[5 rows x 60 columns]"
      ]
     },
     "metadata": {},
     "output_type": "display_data"
    }
   ],
   "source": [
    "current_data_file_path = '../data/processed/data_final.csv'  # Update the path to your file\n",
    "data = pd.read_csv(current_data_file_path)\n",
    "display(data.head())"
   ]
  },
  {
   "cell_type": "code",
   "execution_count": 17,
   "id": "f4b822a4",
   "metadata": {},
   "outputs": [
    {
     "data": {
      "text/html": [
       "<div>\n",
       "<style scoped>\n",
       "    .dataframe tbody tr th:only-of-type {\n",
       "        vertical-align: middle;\n",
       "    }\n",
       "\n",
       "    .dataframe tbody tr th {\n",
       "        vertical-align: top;\n",
       "    }\n",
       "\n",
       "    .dataframe thead th {\n",
       "        text-align: right;\n",
       "    }\n",
       "</style>\n",
       "<table border=\"1\" class=\"dataframe\">\n",
       "  <thead>\n",
       "    <tr style=\"text-align: right;\">\n",
       "      <th></th>\n",
       "      <th>Year</th>\n",
       "      <th>Country</th>\n",
       "      <th>gold_medal</th>\n",
       "      <th>silver_medal</th>\n",
       "      <th>bronze_medal</th>\n",
       "      <th>total_medal</th>\n",
       "      <th>type_olympic</th>\n",
       "      <th>host_flag</th>\n",
       "      <th>Country_</th>\n",
       "      <th>gold_medal_sum</th>\n",
       "      <th>...</th>\n",
       "      <th>primary_enrollment_ratio</th>\n",
       "      <th>secondary_enrollment_ratio</th>\n",
       "      <th>tertiary_enrollment_ratio</th>\n",
       "      <th>internet_penetration</th>\n",
       "      <th>mobile_penetration</th>\n",
       "      <th>health_expenditure</th>\n",
       "      <th>Income Group_Low income</th>\n",
       "      <th>Income Group_Lower middle income</th>\n",
       "      <th>Income Group_Upper middle income</th>\n",
       "      <th>host_flag_1</th>\n",
       "    </tr>\n",
       "  </thead>\n",
       "  <tbody>\n",
       "    <tr>\n",
       "      <th>27</th>\n",
       "      <td>2022.0</td>\n",
       "      <td>USA</td>\n",
       "      <td>8.0</td>\n",
       "      <td>10.0</td>\n",
       "      <td>7.0</td>\n",
       "      <td>25.0</td>\n",
       "      <td>w</td>\n",
       "      <td>0.0</td>\n",
       "      <td>USA</td>\n",
       "      <td>1178.0</td>\n",
       "      <td>...</td>\n",
       "      <td>96.971733</td>\n",
       "      <td>97.473488</td>\n",
       "      <td>79.361931</td>\n",
       "      <td>91.753208</td>\n",
       "      <td>110.166472</td>\n",
       "      <td>16.571152</td>\n",
       "      <td>0.0</td>\n",
       "      <td>0.0</td>\n",
       "      <td>1.0</td>\n",
       "      <td>0.0</td>\n",
       "    </tr>\n",
       "    <tr>\n",
       "      <th>100</th>\n",
       "      <td>2020.0</td>\n",
       "      <td>USA</td>\n",
       "      <td>39.0</td>\n",
       "      <td>41.0</td>\n",
       "      <td>33.0</td>\n",
       "      <td>113.0</td>\n",
       "      <td>s</td>\n",
       "      <td>0.0</td>\n",
       "      <td>USA</td>\n",
       "      <td>1178.0</td>\n",
       "      <td>...</td>\n",
       "      <td>100.305794</td>\n",
       "      <td>100.509819</td>\n",
       "      <td>87.567657</td>\n",
       "      <td>90.620470</td>\n",
       "      <td>104.935375</td>\n",
       "      <td>18.756220</td>\n",
       "      <td>0.0</td>\n",
       "      <td>0.0</td>\n",
       "      <td>0.0</td>\n",
       "      <td>0.0</td>\n",
       "    </tr>\n",
       "  </tbody>\n",
       "</table>\n",
       "<p>2 rows × 60 columns</p>\n",
       "</div>"
      ],
      "text/plain": [
       "       Year Country  gold_medal  silver_medal  bronze_medal  total_medal  \\\n",
       "27   2022.0     USA         8.0          10.0           7.0         25.0   \n",
       "100  2020.0     USA        39.0          41.0          33.0        113.0   \n",
       "\n",
       "    type_olympic  host_flag Country_  gold_medal_sum  ...  \\\n",
       "27             w        0.0      USA          1178.0  ...   \n",
       "100            s        0.0      USA          1178.0  ...   \n",
       "\n",
       "     primary_enrollment_ratio  secondary_enrollment_ratio  \\\n",
       "27                  96.971733                   97.473488   \n",
       "100                100.305794                  100.509819   \n",
       "\n",
       "     tertiary_enrollment_ratio  internet_penetration  mobile_penetration  \\\n",
       "27                   79.361931             91.753208          110.166472   \n",
       "100                  87.567657             90.620470          104.935375   \n",
       "\n",
       "     health_expenditure  Income Group_Low income  \\\n",
       "27            16.571152                      0.0   \n",
       "100           18.756220                      0.0   \n",
       "\n",
       "     Income Group_Lower middle income Income Group_Upper middle income  \\\n",
       "27                                0.0                              1.0   \n",
       "100                               0.0                              0.0   \n",
       "\n",
       "     host_flag_1  \n",
       "27           0.0  \n",
       "100          0.0  \n",
       "\n",
       "[2 rows x 60 columns]"
      ]
     },
     "execution_count": 17,
     "metadata": {},
     "output_type": "execute_result"
    }
   ],
   "source": [
    "usa = data[data['Country'] == 'USA']\n",
    "usa"
   ]
  },
  {
   "cell_type": "code",
   "execution_count": 18,
   "id": "f1ab40a8",
   "metadata": {},
   "outputs": [],
   "source": [
    "X = data.loc[data['Country'] != 'USA', model.X_columns]\n",
    "y = data.loc[data['Country'] != 'USA', 'total_medal']"
   ]
  },
  {
   "cell_type": "code",
   "execution_count": 19,
   "id": "d2106cbc",
   "metadata": {},
   "outputs": [
    {
     "data": {
      "text/plain": [
       "(118, 118)"
      ]
     },
     "execution_count": 19,
     "metadata": {},
     "output_type": "execute_result"
    }
   ],
   "source": [
    "len(X), len(y)"
   ]
  },
  {
   "cell_type": "code",
   "execution_count": 20,
   "id": "c2cbdcfe",
   "metadata": {},
   "outputs": [
    {
     "data": {
      "text/html": [
       "<style>#sk-container-id-1 {color: black;background-color: white;}#sk-container-id-1 pre{padding: 0;}#sk-container-id-1 div.sk-toggleable {background-color: white;}#sk-container-id-1 label.sk-toggleable__label {cursor: pointer;display: block;width: 100%;margin-bottom: 0;padding: 0.3em;box-sizing: border-box;text-align: center;}#sk-container-id-1 label.sk-toggleable__label-arrow:before {content: \"▸\";float: left;margin-right: 0.25em;color: #696969;}#sk-container-id-1 label.sk-toggleable__label-arrow:hover:before {color: black;}#sk-container-id-1 div.sk-estimator:hover label.sk-toggleable__label-arrow:before {color: black;}#sk-container-id-1 div.sk-toggleable__content {max-height: 0;max-width: 0;overflow: hidden;text-align: left;background-color: #f0f8ff;}#sk-container-id-1 div.sk-toggleable__content pre {margin: 0.2em;color: black;border-radius: 0.25em;background-color: #f0f8ff;}#sk-container-id-1 input.sk-toggleable__control:checked~div.sk-toggleable__content {max-height: 200px;max-width: 100%;overflow: auto;}#sk-container-id-1 input.sk-toggleable__control:checked~label.sk-toggleable__label-arrow:before {content: \"▾\";}#sk-container-id-1 div.sk-estimator input.sk-toggleable__control:checked~label.sk-toggleable__label {background-color: #d4ebff;}#sk-container-id-1 div.sk-label input.sk-toggleable__control:checked~label.sk-toggleable__label {background-color: #d4ebff;}#sk-container-id-1 input.sk-hidden--visually {border: 0;clip: rect(1px 1px 1px 1px);clip: rect(1px, 1px, 1px, 1px);height: 1px;margin: -1px;overflow: hidden;padding: 0;position: absolute;width: 1px;}#sk-container-id-1 div.sk-estimator {font-family: monospace;background-color: #f0f8ff;border: 1px dotted black;border-radius: 0.25em;box-sizing: border-box;margin-bottom: 0.5em;}#sk-container-id-1 div.sk-estimator:hover {background-color: #d4ebff;}#sk-container-id-1 div.sk-parallel-item::after {content: \"\";width: 100%;border-bottom: 1px solid gray;flex-grow: 1;}#sk-container-id-1 div.sk-label:hover label.sk-toggleable__label {background-color: #d4ebff;}#sk-container-id-1 div.sk-serial::before {content: \"\";position: absolute;border-left: 1px solid gray;box-sizing: border-box;top: 0;bottom: 0;left: 50%;z-index: 0;}#sk-container-id-1 div.sk-serial {display: flex;flex-direction: column;align-items: center;background-color: white;padding-right: 0.2em;padding-left: 0.2em;position: relative;}#sk-container-id-1 div.sk-item {position: relative;z-index: 1;}#sk-container-id-1 div.sk-parallel {display: flex;align-items: stretch;justify-content: center;background-color: white;position: relative;}#sk-container-id-1 div.sk-item::before, #sk-container-id-1 div.sk-parallel-item::before {content: \"\";position: absolute;border-left: 1px solid gray;box-sizing: border-box;top: 0;bottom: 0;left: 50%;z-index: -1;}#sk-container-id-1 div.sk-parallel-item {display: flex;flex-direction: column;z-index: 1;position: relative;background-color: white;}#sk-container-id-1 div.sk-parallel-item:first-child::after {align-self: flex-end;width: 50%;}#sk-container-id-1 div.sk-parallel-item:last-child::after {align-self: flex-start;width: 50%;}#sk-container-id-1 div.sk-parallel-item:only-child::after {width: 0;}#sk-container-id-1 div.sk-dashed-wrapped {border: 1px dashed gray;margin: 0 0.4em 0.5em 0.4em;box-sizing: border-box;padding-bottom: 0.4em;background-color: white;}#sk-container-id-1 div.sk-label label {font-family: monospace;font-weight: bold;display: inline-block;line-height: 1.2em;}#sk-container-id-1 div.sk-label-container {text-align: center;}#sk-container-id-1 div.sk-container {/* jupyter's `normalize.less` sets `[hidden] { display: none; }` but bootstrap.min.css set `[hidden] { display: none !important; }` so we also need the `!important` here to be able to override the default hidden behavior on the sphinx rendered scikit-learn.org. See: https://github.com/scikit-learn/scikit-learn/issues/21755 */display: inline-block !important;position: relative;}#sk-container-id-1 div.sk-text-repr-fallback {display: none;}</style><div id=\"sk-container-id-1\" class=\"sk-top-container\"><div class=\"sk-text-repr-fallback\"><pre>XGBRegressor(base_score=None, booster=None, callbacks=None,\n",
       "             colsample_bylevel=None, colsample_bynode=None,\n",
       "             colsample_bytree=0.8, device=None, early_stopping_rounds=None,\n",
       "             enable_categorical=False, eval_metric=None, feature_types=None,\n",
       "             gamma=0, grow_policy=None, importance_type=None,\n",
       "             interaction_constraints=None, learning_rate=0.2, max_bin=None,\n",
       "             max_cat_threshold=None, max_cat_to_onehot=None,\n",
       "             max_delta_step=None, max_depth=5, max_leaves=None,\n",
       "             min_child_weight=None, missing=nan, monotone_constraints=None,\n",
       "             multi_strategy=None, n_estimators=100, n_jobs=None,\n",
       "             num_parallel_tree=None, random_state=42, ...)</pre><b>In a Jupyter environment, please rerun this cell to show the HTML representation or trust the notebook. <br />On GitHub, the HTML representation is unable to render, please try loading this page with nbviewer.org.</b></div><div class=\"sk-container\" hidden><div class=\"sk-item\"><div class=\"sk-estimator sk-toggleable\"><input class=\"sk-toggleable__control sk-hidden--visually\" id=\"sk-estimator-id-1\" type=\"checkbox\" checked><label for=\"sk-estimator-id-1\" class=\"sk-toggleable__label sk-toggleable__label-arrow\">XGBRegressor</label><div class=\"sk-toggleable__content\"><pre>XGBRegressor(base_score=None, booster=None, callbacks=None,\n",
       "             colsample_bylevel=None, colsample_bynode=None,\n",
       "             colsample_bytree=0.8, device=None, early_stopping_rounds=None,\n",
       "             enable_categorical=False, eval_metric=None, feature_types=None,\n",
       "             gamma=0, grow_policy=None, importance_type=None,\n",
       "             interaction_constraints=None, learning_rate=0.2, max_bin=None,\n",
       "             max_cat_threshold=None, max_cat_to_onehot=None,\n",
       "             max_delta_step=None, max_depth=5, max_leaves=None,\n",
       "             min_child_weight=None, missing=nan, monotone_constraints=None,\n",
       "             multi_strategy=None, n_estimators=100, n_jobs=None,\n",
       "             num_parallel_tree=None, random_state=42, ...)</pre></div></div></div></div></div>"
      ],
      "text/plain": [
       "XGBRegressor(base_score=None, booster=None, callbacks=None,\n",
       "             colsample_bylevel=None, colsample_bynode=None,\n",
       "             colsample_bytree=0.8, device=None, early_stopping_rounds=None,\n",
       "             enable_categorical=False, eval_metric=None, feature_types=None,\n",
       "             gamma=0, grow_policy=None, importance_type=None,\n",
       "             interaction_constraints=None, learning_rate=0.2, max_bin=None,\n",
       "             max_cat_threshold=None, max_cat_to_onehot=None,\n",
       "             max_delta_step=None, max_depth=5, max_leaves=None,\n",
       "             min_child_weight=None, missing=nan, monotone_constraints=None,\n",
       "             multi_strategy=None, n_estimators=100, n_jobs=None,\n",
       "             num_parallel_tree=None, random_state=42, ...)"
      ]
     },
     "execution_count": 20,
     "metadata": {},
     "output_type": "execute_result"
    }
   ],
   "source": [
    "model.fit(X, y)"
   ]
  },
  {
   "cell_type": "code",
   "execution_count": 23,
   "id": "973eede0",
   "metadata": {},
   "outputs": [],
   "source": [
    "cv_results = cross_validate(model, X, y, scoring='neg_mean_absolute_error', cv=5, n_jobs=-1)"
   ]
  },
  {
   "cell_type": "code",
   "execution_count": 24,
   "id": "ba94f15a",
   "metadata": {},
   "outputs": [
    {
     "data": {
      "text/plain": [
       "array([-2.26366973, -2.67687107, -2.58212253, -0.81979611, -1.5908103 ])"
      ]
     },
     "execution_count": 24,
     "metadata": {},
     "output_type": "execute_result"
    }
   ],
   "source": [
    "cv_results['test_score']"
   ]
  },
  {
   "cell_type": "code",
   "execution_count": 25,
   "id": "3a67af26",
   "metadata": {},
   "outputs": [
    {
     "data": {
      "text/plain": [
       "(1.9866539485644605, 0.6965586336499013)"
      ]
     },
     "execution_count": 25,
     "metadata": {},
     "output_type": "execute_result"
    }
   ],
   "source": [
    "mae_mean, mae_std = np.mean(-1 * cv_results['test_score']), np.std(-1 * cv_results['test_score'])\n",
    "mae_mean, mae_std"
   ]
  },
  {
   "cell_type": "code",
   "execution_count": 26,
   "id": "e6610bdd",
   "metadata": {},
   "outputs": [],
   "source": [
    "X_usa = data.loc[data['Country'] == 'USA', model.X_columns]\n",
    "y_usa = data.loc[data['Country'] == 'USA', 'total_medal']"
   ]
  },
  {
   "cell_type": "code",
   "execution_count": 29,
   "id": "b83d0690",
   "metadata": {},
   "outputs": [
    {
     "data": {
      "text/plain": [
       "array([22.2346 , 88.13481], dtype=float32)"
      ]
     },
     "execution_count": 29,
     "metadata": {},
     "output_type": "execute_result"
    }
   ],
   "source": [
    "usa_pred = model.predict(X_usa)\n"
   ]
  },
  {
   "cell_type": "code",
   "execution_count": 36,
   "id": "046d18d2",
   "metadata": {},
   "outputs": [
    {
     "name": "stdout",
     "output_type": "stream",
     "text": [
      "Winter olympic games predictions = 22.234600067138672\n",
      "Summer olympic games predictions = 88.13481140136719\n"
     ]
    }
   ],
   "source": [
    "print(f'Winter olympic games predictions = {usa_pred[0]}\\nSummer olympic games predictions = {usa_pred[1]}')\n"
   ]
  },
  {
   "cell_type": "code",
   "execution_count": 37,
   "id": "ff6df85f",
   "metadata": {},
   "outputs": [
    {
     "name": "stdout",
     "output_type": "stream",
     "text": [
      "Winter olympic games actual = 25.0\n",
      "Summer olympic games actual = 113.0\n"
     ]
    }
   ],
   "source": [
    "y_usa_a = y_usa.values\n",
    "print(f'Winter olympic games actual = {y_usa_a[0]}\\nSummer olympic games actual = {y_usa_a[1]}')\n"
   ]
  },
  {
   "cell_type": "code",
   "execution_count": 33,
   "id": "9175a12f",
   "metadata": {},
   "outputs": [],
   "source": [
    "dif = y_usa_a-usa_pred"
   ]
  },
  {
   "cell_type": "code",
   "execution_count": 34,
   "id": "8c6abf84",
   "metadata": {},
   "outputs": [
    {
     "data": {
      "text/plain": [
       "array([ 2.76539993, 24.8651886 ])"
      ]
     },
     "execution_count": 34,
     "metadata": {},
     "output_type": "execute_result"
    }
   ],
   "source": [
    "dif"
   ]
  }
 ],
 "metadata": {
  "kernelspec": {
   "display_name": "Python 3 (ipykernel)",
   "language": "python",
   "name": "python3"
  },
  "language_info": {
   "codemirror_mode": {
    "name": "ipython",
    "version": 3
   },
   "file_extension": ".py",
   "mimetype": "text/x-python",
   "name": "python",
   "nbconvert_exporter": "python",
   "pygments_lexer": "ipython3",
   "version": "3.10.9"
  }
 },
 "nbformat": 4,
 "nbformat_minor": 5
}
